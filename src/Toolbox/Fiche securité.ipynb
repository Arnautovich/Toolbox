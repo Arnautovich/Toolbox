{
 "cells": [
  {
   "cell_type": "code",
   "execution_count": 21,
   "id": "e50bc07b-f8bd-44f0-8141-6a424b9679f6",
   "metadata": {},
   "outputs": [],
   "source": [
    "import requests\n",
    "def resolve_name_to_cas(molecule_name):\n",
    "    \n",
    "        # Construct the URL for the CIR service\n",
    "    url = f\"https://commonchemistry.cas.org/results?q={molecule_name}\"\n",
    "\n",
    "        # Send a GET request to the CIR service\n",
    "    response = requests.get(url)\n",
    "\n",
    "    find = \"Result: \"\n",
    "    start=response.text.find(find)+len(find)\n",
    "    end = response.text.find(\",\" ,start)\n",
    "    return response.text[start: end]\n"
   ]
  },
  {
   "cell_type": "code",
   "execution_count": 24,
   "id": "5c0785d5-fa4a-4b5a-93ac-5d7a81048291",
   "metadata": {},
   "outputs": [],
   "source": [
    "import io\n",
    "import requests\n",
    "from pdf2image import convert_from_bytes\n",
    "from PIL import Image\n",
    "\n",
    "def display_pdf_images(molecule_name):\n",
    "    images_list = []\n",
    "    CAS = resolve_name_to_cas(molecule_name)\n",
    "    # Download the PDF from the URL\n",
    "    pdf_url = f\"https://www.chemblink.com/MSDS/MSDSFiles/{CAS}Sigma-Aldrich.pdf\"\n",
    "    response = requests.get(pdf_url)\n",
    "    if response.status_code != 200:\n",
    "        print(f\"Failed to download PDF from {pdf_url}. Status code: {response.status_code}\")\n",
    "        return\n",
    "\n",
    "    # Convert the downloaded PDF bytes to images\n",
    "    pdf_bytes = response.content\n",
    "    images = convert_from_bytes(pdf_bytes)\n",
    "\n",
    "    # Display each image\n",
    "    for i, image in enumerate(images):\n",
    "        # Display the image\n",
    "        images_list.append(image)\n",
    "    merge_images_vertically(images_list).show()\n",
    "    \n",
    "# Example usage\n",
    "\n",
    "display_pdf_images(\"aspirin\")\n",
    "\n"
   ]
  },
  {
   "cell_type": "code",
   "execution_count": 10,
   "id": "e0b89d39-6d1a-41f7-a870-e4a214cba9aa",
   "metadata": {},
   "outputs": [],
   "source": [
    "def merge_images_vertically(image_list):\n",
    "    # Open all images\n",
    "    images = image_list\n",
    "\n",
    "    # Find maximum width and total height\n",
    "    max_width = max(image.width for image in images)\n",
    "    total_height = sum(image.height for image in images)\n",
    "\n",
    "    # Create a new blank image with the maximum width and total height\n",
    "    merged_image = Image.new(\"RGB\", (max_width, total_height))\n",
    "\n",
    "    # Paste each image onto the blank image\n",
    "    y_offset = 0\n",
    "    for image in images:\n",
    "        merged_image.paste(image, (0, y_offset))\n",
    "        y_offset += image.height\n",
    "\n",
    "    return merged_image"
   ]
  },
  {
   "cell_type": "code",
   "execution_count": null,
   "id": "7f6f2a8b-090c-42ed-bd72-8fd9d62a929e",
   "metadata": {},
   "outputs": [],
   "source": []
  }
 ],
 "metadata": {
  "kernelspec": {
   "display_name": "Python 3 (ipykernel)",
   "language": "python",
   "name": "python3"
  },
  "language_info": {
   "codemirror_mode": {
    "name": "ipython",
    "version": 3
   },
   "file_extension": ".py",
   "mimetype": "text/x-python",
   "name": "python",
   "nbconvert_exporter": "python",
   "pygments_lexer": "ipython3",
   "version": "3.9.10"
  }
 },
 "nbformat": 4,
 "nbformat_minor": 5
}
