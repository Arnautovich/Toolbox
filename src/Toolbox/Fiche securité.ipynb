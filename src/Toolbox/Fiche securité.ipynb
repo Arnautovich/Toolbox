{
 "cells": [
  {
   "cell_type": "code",
   "execution_count": 1,
   "id": "d2fddba4-d07b-4d3a-8a3c-7cd045c886a9",
   "metadata": {},
   "outputs": [
    {
     "name": "stdout",
     "output_type": "stream",
     "text": [
      "Failed to download SDS for CAS number 64-17-5. Status code: 400\n"
     ]
    }
   ],
   "source": [
    "import requests\n",
    "\n",
    "def download_sds(cas_number):\n",
    "    # PubChem API URL for SDS data\n",
    "    url = f\"https://pubchem.ncbi.nlm.nih.gov/rest/pug/compound/cas/{cas_number}/record/SDF/?record_type=3d\"\n",
    "\n",
    "    try:\n",
    "        # Sending GET request to PubChem API\n",
    "        response = requests.get(url)\n",
    "        \n",
    "        # Checking if request was successful\n",
    "        if response.status_code == 200:\n",
    "            # Extracting SDS content\n",
    "            sds_content = response.text\n",
    "            \n",
    "            # Writing SDS content to a file\n",
    "            with open(f\"{cas_number}_sds.sdf\", \"w\") as f:\n",
    "                f.write(sds_content)\n",
    "            \n",
    "            print(f\"SDS for CAS number {cas_number} downloaded successfully.\")\n",
    "        else:\n",
    "            print(f\"Failed to download SDS for CAS number {cas_number}. Status code: {response.status_code}\")\n",
    "    except Exception as e:\n",
    "        print(f\"An error occurred: {e}\")\n",
    "\n",
    "# Example usage\n",
    "cas_number = \"64-17-5\"  # Ethanol\n",
    "download_sds(cas_number)"
   ]
  },
  {
   "cell_type": "code",
   "execution_count": null,
   "id": "9a1e84c9-5eb4-4844-a188-a4a25012eb61",
   "metadata": {},
   "outputs": [],
   "source": []
  }
 ],
 "metadata": {
  "kernelspec": {
   "display_name": "Python 3 (ipykernel)",
   "language": "python",
   "name": "python3"
  },
  "language_info": {
   "codemirror_mode": {
    "name": "ipython",
    "version": 3
   },
   "file_extension": ".py",
   "mimetype": "text/x-python",
   "name": "python",
   "nbconvert_exporter": "python",
   "pygments_lexer": "ipython3",
   "version": "3.9.10"
  }
 },
 "nbformat": 4,
 "nbformat_minor": 5
}
