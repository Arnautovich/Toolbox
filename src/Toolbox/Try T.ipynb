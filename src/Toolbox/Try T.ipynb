{
 "cells": [
  {
   "cell_type": "code",
   "execution_count": 22,
   "id": "4bdab9a4-35f7-4b4b-a69f-6fe31adbb9fc",
   "metadata": {},
   "outputs": [
    {
     "name": "stdout",
     "output_type": "stream",
     "text": [
      "292.58208950542047\n",
      "294.04895079794414\n"
     ]
    }
   ],
   "source": [
    "import numpy as np\n",
    "\n",
    "\n",
    "def clausius_clapeyron (Pressure,CASRN): \n",
    "    \n",
    "    T = chemicals.phase_change.Tb(CASRN, method=None)\n",
    "    \n",
    "    return 1/((1/T)-(np.log(Pressure/1.01325)/(T*(4.4+np.log(T)))))\n",
    "\n",
    "print (clausius_clapeyron (0.5,\"75-09-2\"))\n",
    "\n",
    "import chemicals \n",
    "def clausius_clapeyron_enthalpy (Pressure,CASRN):\n",
    "#P in bar\n",
    "# T in K\n",
    "    \n",
    "   \n",
    "    Liquid_heat_compound = chemicals.reaction.Hfl(CASRN, method=None)\n",
    "    \n",
    "    Gas_heat_compound = chemicals.reaction.Hfg(CASRN, method=None)\n",
    "    \n",
    "    T = chemicals.phase_change.Tb(CASRN, method=None)\n",
    "    \n",
    "    latent_heat_compound = Gas_heat_compound - Liquid_heat_compound\n",
    "    \n",
    "    New_Boiling_Point_at_P = 1/((1/T)-(np.log(Pressure/1.01325)*8.314/(latent_heat_compound)))\n",
    "\n",
    "    return New_Boiling_Point_at_P\n",
    "\n",
    "print (clausius_clapeyron_enthalpy (0.5,\"75-09-2\"))\n"
   ]
  },
  {
   "cell_type": "code",
   "execution_count": 65,
   "id": "716424a8-57a8-4d6c-9cb8-ae275f78b892",
   "metadata": {},
   "outputs": [
    {
     "name": "stdout",
     "output_type": "stream",
     "text": [
      "CAS number for aspirine: 50-78-2\n",
      "11126-35-5\n",
      "11126-37-7\n",
      "2349-94-2\n",
      "26914-13-6\n",
      "98201-60-6\n"
     ]
    }
   ],
   "source": [
    "import requests\n",
    "\n",
    "def resolve_name_to_cas(molecule_name):\n",
    "    try:\n",
    "        # Construct the URL for the CIR service\n",
    "        url = f\"https://cactus.nci.nih.gov/chemical/structure/{molecule_name}/cas\"\n",
    "\n",
    "        # Send a GET request to the CIR service\n",
    "        response = requests.get(url)\n",
    "\n",
    "        # Check if the request was successful (status code 200)\n",
    "        if response.status_code == 200:\n",
    "            # Extract CAS number from the response\n",
    "            cas_number = response.text.strip()\n",
    "            return cas_number\n",
    "        else:\n",
    "            print(\"Request failed with status code:\", response.status_code)\n",
    "            return None\n",
    "    except Exception as e:\n",
    "        print(\"An error occurred:\", e)\n",
    "        return None\n",
    "\n",
    "# Example usage\n",
    "molecule_name = \"aspirine\"\n",
    "cas_number = resolve_name_to_cas(molecule_name)\n",
    "print(f\"CAS number for {molecule_name}: {cas_number}\")\n",
    "#string"
   ]
  },
  {
   "cell_type": "code",
   "execution_count": 63,
   "id": "81033dfd-537e-4c9b-af3b-8d88b49a2666",
   "metadata": {},
   "outputs": [
    {
     "ename": "TypeError",
     "evalue": "unsupported operand type(s) for -: 'NoneType' and 'NoneType'",
     "output_type": "error",
     "traceback": [
      "\u001b[0;31m---------------------------------------------------------------------------\u001b[0m",
      "\u001b[0;31mTypeError\u001b[0m                                 Traceback (most recent call last)",
      "Input \u001b[0;32mIn [63]\u001b[0m, in \u001b[0;36m<cell line: 49>\u001b[0;34m()\u001b[0m\n\u001b[1;32m     42\u001b[0m     \u001b[38;5;28;01mreturn\u001b[39;00m New_Boiling_Point_at_P\n\u001b[1;32m     47\u001b[0m result_of_first_function \u001b[38;5;241m=\u001b[39m resolve_name_to_cas(\u001b[38;5;124m\"\u001b[39m\u001b[38;5;124maspirin\u001b[39m\u001b[38;5;124m\"\u001b[39m)\n\u001b[0;32m---> 49\u001b[0m result_of_second_function \u001b[38;5;241m=\u001b[39m \u001b[43mclausius_clapeyron_enthalpy\u001b[49m\u001b[43m(\u001b[49m\u001b[38;5;241;43m0.5\u001b[39;49m\u001b[43m,\u001b[49m\u001b[43mresult_of_first_function\u001b[49m\u001b[43m)\u001b[49m\n\u001b[1;32m     51\u001b[0m \u001b[38;5;28mprint\u001b[39m(\u001b[38;5;124m\"\u001b[39m\u001b[38;5;124mResult of first function:\u001b[39m\u001b[38;5;124m\"\u001b[39m, result_of_first_function)\n\u001b[1;32m     52\u001b[0m \u001b[38;5;28mprint\u001b[39m(\u001b[38;5;124m\"\u001b[39m\u001b[38;5;124mResult of second function:\u001b[39m\u001b[38;5;124m\"\u001b[39m, result_of_second_function)\n",
      "Input \u001b[0;32mIn [63]\u001b[0m, in \u001b[0;36mclausius_clapeyron_enthalpy\u001b[0;34m(Pressure, CASRN)\u001b[0m\n\u001b[1;32m     34\u001b[0m Gas_heat_compound \u001b[38;5;241m=\u001b[39m chemicals\u001b[38;5;241m.\u001b[39mreaction\u001b[38;5;241m.\u001b[39mHfg(CASRN, method\u001b[38;5;241m=\u001b[39m\u001b[38;5;28;01mNone\u001b[39;00m)\n\u001b[1;32m     36\u001b[0m T \u001b[38;5;241m=\u001b[39m chemicals\u001b[38;5;241m.\u001b[39mphase_change\u001b[38;5;241m.\u001b[39mTb(CASRN, method\u001b[38;5;241m=\u001b[39m\u001b[38;5;28;01mNone\u001b[39;00m)\n\u001b[0;32m---> 38\u001b[0m latent_heat_compound \u001b[38;5;241m=\u001b[39m \u001b[43mGas_heat_compound\u001b[49m\u001b[43m \u001b[49m\u001b[38;5;241;43m-\u001b[39;49m\u001b[43m \u001b[49m\u001b[43mLiquid_heat_compound\u001b[49m\n\u001b[1;32m     40\u001b[0m New_Boiling_Point_at_P \u001b[38;5;241m=\u001b[39m \u001b[38;5;241m1\u001b[39m\u001b[38;5;241m/\u001b[39m((\u001b[38;5;241m1\u001b[39m\u001b[38;5;241m/\u001b[39mT)\u001b[38;5;241m-\u001b[39m(np\u001b[38;5;241m.\u001b[39mlog(Pressure\u001b[38;5;241m/\u001b[39m\u001b[38;5;241m1.01325\u001b[39m)\u001b[38;5;241m*\u001b[39m\u001b[38;5;241m8.314\u001b[39m\u001b[38;5;241m/\u001b[39m(latent_heat_compound)))\n\u001b[1;32m     42\u001b[0m \u001b[38;5;28;01mreturn\u001b[39;00m New_Boiling_Point_at_P\n",
      "\u001b[0;31mTypeError\u001b[0m: unsupported operand type(s) for -: 'NoneType' and 'NoneType'"
     ]
    }
   ],
   "source": [
    "import requests\n",
    "\n",
    "def resolve_name_to_cas(molecule_name):\n",
    "    try:\n",
    "        # Construct the URL for the CIR service\n",
    "        url = f\"https://cactus.nci.nih.gov/chemical/structure/{molecule_name}/cas\"\n",
    "\n",
    "        # Send a GET request to the CIR service\n",
    "        response = requests.get(url)\n",
    "\n",
    "        # Check if the request was successful (status code 200)\n",
    "        if response.status_code == 200:\n",
    "            # Extract CAS number from the response\n",
    "            cas_number = response.text.strip()\n",
    "            return cas_number\n",
    "        else:\n",
    "            print(\"Request failed with status code:\", response.status_code)\n",
    "            return None\n",
    "    except Exception as e:\n",
    "        print(\"An error occurred:\", e)\n",
    "        return None\n",
    "\n",
    "\n",
    "\n",
    "\n",
    "import chemicals \n",
    "def clausius_clapeyron_enthalpy (Pressure,CASRN):\n",
    "#P in bar\n",
    "# T in K\n",
    "    \n",
    "   \n",
    "    Liquid_heat_compound = chemicals.reaction.Hfl(CASRN, method=None)\n",
    "    \n",
    "    Gas_heat_compound = chemicals.reaction.Hfg(CASRN, method=None)\n",
    "    \n",
    "    T = chemicals.phase_change.Tb(CASRN, method=None)\n",
    "    \n",
    "    latent_heat_compound = Gas_heat_compound - Liquid_heat_compound\n",
    "    \n",
    "    New_Boiling_Point_at_P = 1/((1/T)-(np.log(Pressure/1.01325)*8.314/(latent_heat_compound)))\n",
    "\n",
    "    return New_Boiling_Point_at_P\n",
    "\n",
    "\n",
    "\n",
    "\n",
    "result_of_first_function = resolve_name_to_cas(\"aspirin\")\n",
    "\n",
    "result_of_second_function = clausius_clapeyron_enthalpy(0.5,result_of_first_function)\n",
    "\n",
    "print(\"Result of first function:\", result_of_first_function)\n",
    "print(\"Result of second function:\", result_of_second_function)\n",
    "\n",
    "#problema esque toca escoger uno de los 5\n"
   ]
  },
  {
   "cell_type": "code",
   "execution_count": null,
   "id": "5beab5e1-9cdf-4b72-a4be-dbfc9cfbcd05",
   "metadata": {},
   "outputs": [],
   "source": []
  },
  {
   "cell_type": "code",
   "execution_count": 47,
   "id": "77c84b2a-0a18-4fe8-a922-90362764a732",
   "metadata": {},
   "outputs": [
    {
     "name": "stdout",
     "output_type": "stream",
     "text": [
      "CAS number: CAS number not found\n"
     ]
    }
   ],
   "source": [
    "#html content\n",
    "\n",
    "from bs4 import BeautifulSoup\n",
    "\n",
    "# HTML content\n",
    "html_content = \"\"\"\n",
    "<!-- HTML content goes here -->\n",
    "\"\"\"\n",
    "\n",
    "def extract_cas_number(html_content):\n",
    "    try:\n",
    "        # Create a BeautifulSoup object\n",
    "        soup = BeautifulSoup(html_content, 'html.parser')\n",
    "        \n",
    "        # Find the element containing the CAS number\n",
    "        cas_element = soup.find('li', string='CAS Registry Number:')\n",
    "        \n",
    "        # Extract the CAS number\n",
    "        if cas_element:\n",
    "            cas_number = cas_element.find_next_sibling().text.strip()\n",
    "            return cas_number\n",
    "        else:\n",
    "            return \"CAS number not found\"\n",
    "    except Exception as e:\n",
    "        print(\"An error occurred:\", e)\n",
    "        return None\n",
    "\n",
    "# Example usage\n",
    "cas_number = extract_cas_number(html_content)\n",
    "print(\"CAS number:\", cas_number)"
   ]
  },
  {
   "cell_type": "code",
   "execution_count": 53,
   "id": "e4372dee-9256-4410-9cfc-48c674ade4a2",
   "metadata": {},
   "outputs": [
    {
     "name": "stdout",
     "output_type": "stream",
     "text": [
      "CAS number for aspirin: None\n"
     ]
    }
   ],
   "source": [
    "#from pubchem with cid\n",
    "\n",
    "\n",
    "\n",
    "import requests\n",
    "\n",
    "def get_compound_info(compound_name):\n",
    "    try:\n",
    "        # URL of PubChem API for compound name search\n",
    "        url = f\"https://pubchem.ncbi.nlm.nih.gov/rest/pug/compound/name/{compound_name}/cids/JSON\"\n",
    "        \n",
    "        # Send an HTTP GET request to the PubChem API\n",
    "        response = requests.get(url)\n",
    "        \n",
    "        # Check if the request was successful (status code 200)\n",
    "        if response.status_code == 200:\n",
    "            # Parse JSON response\n",
    "            data = response.json()\n",
    "            if 'IdentifierList' in data:\n",
    "                cid = data['IdentifierList']['CID'][0]\n",
    "                return cid\n",
    "            else:\n",
    "                return None\n",
    "        else:\n",
    "            print(\"Request failed with status code:\", response.status_code)\n",
    "            return None\n",
    "    except Exception as e:\n",
    "        print(\"An error occurred:\", e)\n",
    "        return None\n",
    "\n",
    "def get_cas_number(cid):\n",
    "    try:\n",
    "        # URL of PubChem API for compound details\n",
    "        url = f\"https://pubchem.ncbi.nlm.nih.gov/rest/pug/compound/cid/{cid}/record/JSON\"\n",
    "        \n",
    "        # Send an HTTP GET request to the PubChem API\n",
    "        response = requests.get(url)\n",
    "        \n",
    "        # Check if the request was successful (status code 200)\n",
    "        if response.status_code == 200:\n",
    "            # Parse JSON response\n",
    "            data = response.json()\n",
    "            if 'Record' in data and 'Section' in data['Record']:\n",
    "                for section in data['Record']['Section']:\n",
    "                    if section['TOCHeading'] == 'Names and Identifiers':\n",
    "                        for subsection in section['Section']:\n",
    "                            if subsection['TOCHeading'] == 'Other Identifiers':\n",
    "                                for identifier in subsection['Information']:\n",
    "                                    if identifier['Name'] == 'CAS':\n",
    "                                        return identifier['Value']['StringWithMarkup'][0]['String']\n",
    "            return None\n",
    "        else:\n",
    "            print(\"Request failed with status code:\", response.status_code)\n",
    "            return None\n",
    "    except Exception as e:\n",
    "        print(\"An error occurred:\", e)\n",
    "        return None\n",
    "\n",
    "# Example usage\n",
    "compound_name = \"aspirin\"\n",
    "cid = get_compound_info(compound_name)\n",
    "if cid:\n",
    "    cas_number = get_cas_number(cid)\n",
    "    print(f\"CAS number for {compound_name}: {cas_number}\")\n",
    "else:\n",
    "    print(f\"No information found for {compound_name}\")"
   ]
  },
  {
   "cell_type": "code",
   "execution_count": 68,
   "id": "ee504a16-9f4d-436b-b782-1f782ca5c7cc",
   "metadata": {},
   "outputs": [
    {
     "name": "stdout",
     "output_type": "stream",
     "text": [
      "An error occurred: HTTPSConnectionPool(host='scommonchemistry.cas.org', port=443): Max retries exceeded with url: /api/details (Caused by NameResolutionError(\"<urllib3.connection.HTTPSConnection object at 0x11f1169a0>: Failed to resolve 'scommonchemistry.cas.org' ([Errno 8] nodename nor servname provided, or not known)\"))\n",
      "CAS number for aspirine: None\n"
     ]
    }
   ],
   "source": [
    "import requests\n",
    "\n",
    "def resolve_name_to_cas(molecule_name):\n",
    "    try:\n",
    "        # Construct the URL for the CIR service\n",
    "        url = f\" https://scommonchemistry.cas.org/api/details\"\n",
    "\n",
    "        # Send a GET request to the CIR service\n",
    "        response = requests.get(url)\n",
    "\n",
    "        # Check if the request was successful (status code 200)\n",
    "        if response.status_code == 200:\n",
    "            # Extract CAS number from the response\n",
    "            cas_number = response.text.strip()\n",
    "            return cas_number\n",
    "        else:\n",
    "            print(\"Request failed with status code:\", response.status_code)\n",
    "            return None\n",
    "    except Exception as e:\n",
    "        print(\"An error occurred:\", e)\n",
    "        return None\n",
    "\n",
    "# Example usage\n",
    "molecule_name = \"aspirine\"\n",
    "cas_number = resolve_name_to_cas(molecule_name)\n",
    "print(f\"CAS number for {molecule_name}: {cas_number}\")\n",
    "#string"
   ]
  },
  {
   "cell_type": "code",
   "execution_count": null,
   "id": "b222aa64-e3c0-4e19-96b3-6448fc71b4f5",
   "metadata": {},
   "outputs": [],
   "source": []
  }
 ],
 "metadata": {
  "kernelspec": {
   "display_name": "Python 3 (ipykernel)",
   "language": "python",
   "name": "python3"
  },
  "language_info": {
   "codemirror_mode": {
    "name": "ipython",
    "version": 3
   },
   "file_extension": ".py",
   "mimetype": "text/x-python",
   "name": "python",
   "nbconvert_exporter": "python",
   "pygments_lexer": "ipython3",
   "version": "3.9.10"
  }
 },
 "nbformat": 4,
 "nbformat_minor": 5
}
