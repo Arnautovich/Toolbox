{
 "cells": [
  {
   "cell_type": "code",
   "execution_count": 22,
   "id": "4bdab9a4-35f7-4b4b-a69f-6fe31adbb9fc",
   "metadata": {},
   "outputs": [
    {
     "name": "stdout",
     "output_type": "stream",
     "text": [
      "292.58208950542047\n",
      "294.04895079794414\n"
     ]
    }
   ],
   "source": [
    "import numpy as np\n",
    "\n",
    "\n",
    "def clausius_clapeyron (Pressure,CASRN): \n",
    "    \n",
    "    T = chemicals.phase_change.Tb(CASRN, method=None)\n",
    "    \n",
    "    return 1/((1/T)-(np.log(Pressure/1.01325)/(T*(4.4+np.log(T)))))\n",
    "\n",
    "print (clausius_clapeyron (0.5,\"75-09-2\"))\n",
    "\n",
    "import chemicals \n",
    "def clausius_clapeyron_enthalpy (Pressure,CASRN):\n",
    "#P in bar\n",
    "# T in K\n",
    "    \n",
    "   \n",
    "    Liquid_heat_compound = chemicals.reaction.Hfl(CASRN, method=None)\n",
    "    \n",
    "    Gas_heat_compound = chemicals.reaction.Hfg(CASRN, method=None)\n",
    "    \n",
    "    T = chemicals.phase_change.Tb(CASRN, method=None)\n",
    "    \n",
    "    latent_heat_compound = Gas_heat_compound - Liquid_heat_compound\n",
    "    \n",
    "    New_Boiling_Point_at_P = 1/((1/T)-(np.log(Pressure/1.01325)*8.314/(latent_heat_compound)))\n",
    "\n",
    "    return New_Boiling_Point_at_P\n",
    "\n",
    "print (clausius_clapeyron_enthalpy (0.5,\"75-09-2\"))\n"
   ]
  },
  {
   "cell_type": "code",
   "execution_count": 65,
   "id": "716424a8-57a8-4d6c-9cb8-ae275f78b892",
   "metadata": {},
   "outputs": [
    {
     "name": "stdout",
     "output_type": "stream",
     "text": [
      "CAS number for aspirine: 50-78-2\n",
      "11126-35-5\n",
      "11126-37-7\n",
      "2349-94-2\n",
      "26914-13-6\n",
      "98201-60-6\n"
     ]
    }
   ],
   "source": []
  },
  {
   "cell_type": "code",
   "execution_count": 2,
   "id": "81033dfd-537e-4c9b-af3b-8d88b49a2666",
   "metadata": {
    "scrolled": true
   },
   "outputs": [
    {
     "name": "stdout",
     "output_type": "stream",
     "text": [
      "67-56-1\n",
      "Result of first function: 67-56-1\n",
      "Result of second function: 320.7632478832398\n"
     ]
    }
   ],
   "source": [
    "import requests\n",
    "import numpy as np\n",
    "def resolve_name_to_cas(molecule_name):\n",
    "    \n",
    "        # Construct the URL for the CIR service\n",
    "    url = f\"https://commonchemistry.cas.org/results?q={molecule_name}\"\n",
    "\n",
    "        # Send a GET request to the CIR service\n",
    "    response = requests.get(url)\n",
    "\n",
    "    find = \"Result: \"\n",
    "    start=response.text.find(find)+len(find)\n",
    "    end = response.text.find(\",\" ,start)\n",
    "\n",
    "    return response.text[start: end]\n",
    "    \n",
    "\n",
    "\n",
    "\n",
    "\n",
    "import chemicals \n",
    "def clausius_clapeyron_enthalpy (Pressure,CASRN):\n",
    "#P in bar\n",
    "# T in K\n",
    "    \n",
    "   \n",
    "    Liquid_heat_compound = chemicals.reaction.Hfl(CASRN, method=None)\n",
    "    \n",
    "    Gas_heat_compound = chemicals.reaction.Hfg(CASRN, method=None)\n",
    "    \n",
    "    T = chemicals.phase_change.Tb(CASRN, method=None)\n",
    "    \n",
    "    latent_heat_compound = Gas_heat_compound - Liquid_heat_compound\n",
    "    \n",
    "    New_Boiling_Point_at_P = 1/((1/T)-(np.log(Pressure/1.01325)*8.314/(latent_heat_compound)))\n",
    "\n",
    "    return New_Boiling_Point_at_P\n",
    "\n",
    "\n",
    "\n",
    "\n",
    "result_of_first_function = resolve_name_to_cas(\"Methanol\")\n",
    "print(result_of_first_function)\n",
    "result_of_second_function = clausius_clapeyron_enthalpy(0.5,result_of_first_function)\n",
    "\n",
    "print(\"Result of first function:\", result_of_first_function)\n",
    "print(\"Result of second function:\", result_of_second_function)\n",
    "\n",
    "#problema esque toca escoger uno de los 5\n"
   ]
  },
  {
   "cell_type": "code",
   "execution_count": 4,
   "id": "5beab5e1-9cdf-4b72-a4be-dbfc9cfbcd05",
   "metadata": {},
   "outputs": [
    {
     "name": "stdout",
     "output_type": "stream",
     "text": [
      "50-78-2\n"
     ]
    }
   ],
   "source": [
    "import requests\n",
    "\n",
    "def resolve_name_to_cas(molecule_name):\n",
    "    \n",
    "        # Construct the URL for the CIR service\n",
    "    url = f\"https://commonchemistry.cas.org/results?q={molecule_name}\"\n",
    "\n",
    "        # Send a GET request to the CIR service\n",
    "    response = requests.get(url)\n",
    "\n",
    "    find = \"Result: \"\n",
    "    start=response.text.find(find)+len(find)\n",
    "    end = response.text.find(\",\" ,start)\n",
    "\n",
    "    return response.text[start: end]\n",
    "    \n",
    "print (resolve_name_to_cas(\"aspirin\"))"
   ]
  },
  {
   "cell_type": "code",
   "execution_count": null,
   "id": "208c686e-e2e2-4f5d-8281-cbe5ddf76b57",
   "metadata": {},
   "outputs": [],
   "source": []
  }
 ],
 "metadata": {
  "kernelspec": {
   "display_name": "Python 3 (ipykernel)",
   "language": "python",
   "name": "python3"
  },
  "language_info": {
   "codemirror_mode": {
    "name": "ipython",
    "version": 3
   },
   "file_extension": ".py",
   "mimetype": "text/x-python",
   "name": "python",
   "nbconvert_exporter": "python",
   "pygments_lexer": "ipython3",
   "version": "3.9.10"
  }
 },
 "nbformat": 4,
 "nbformat_minor": 5
}
