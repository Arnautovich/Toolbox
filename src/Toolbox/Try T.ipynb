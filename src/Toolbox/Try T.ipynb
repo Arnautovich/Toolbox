{
 "cells": [
  {
   "cell_type": "code",
   "execution_count": 24,
   "id": "4bdab9a4-35f7-4b4b-a69f-6fe31adbb9fc",
   "metadata": {},
   "outputs": [
    {
     "name": "stdout",
     "output_type": "stream",
     "text": [
      "294.04895079794414\n"
     ]
    }
   ],
   "source": [
    "import numpy as np\n",
    "\n",
    "\n",
    "def clausius_clapeyron (T,P): \n",
    "    \n",
    "    return 1/((1/T)-(np.log(P/1.01325)*R/(T*(4.4+np.log(T)))))\n",
    "\n",
    "\n",
    "import chemicals \n",
    "def clausius_clapeyron_enthalpy (Pressure,CASRN):\n",
    "#P in bar\n",
    "# T in K\n",
    "    \n",
    "   \n",
    "    Liquid_heat_compound = chemicals.reaction.Hfl(CASRN, method=None)\n",
    "    \n",
    "    Gas_heat_compound = chemicals.reaction.Hfg(CASRN, method=None)\n",
    "    \n",
    "    T = chemicals.phase_change.Tb(CASRN, method=None)\n",
    "    \n",
    "    latent_heat_compound = Gas_heat_compound - Liquid_heat_compound\n",
    "    \n",
    "    New_Boiling_Point_at_P = 1/((1/T)-(np.log(Pressure/1.01325)*8.314/(latent_heat_compound)))\n",
    "\n",
    "    return New_Boiling_Point_at_P\n",
    "\n",
    "print (clausius_clapeyron_enthalpy (0.5,\"75-09-2\"))\n"
   ]
  },
  {
   "cell_type": "code",
   "execution_count": null,
   "id": "716424a8-57a8-4d6c-9cb8-ae275f78b892",
   "metadata": {},
   "outputs": [],
   "source": []
  },
  {
   "cell_type": "code",
   "execution_count": null,
   "id": "81033dfd-537e-4c9b-af3b-8d88b49a2666",
   "metadata": {},
   "outputs": [],
   "source": []
  }
 ],
 "metadata": {
  "kernelspec": {
   "display_name": "Python 3 (ipykernel)",
   "language": "python",
   "name": "python3"
  },
  "language_info": {
   "codemirror_mode": {
    "name": "ipython",
    "version": 3
   },
   "file_extension": ".py",
   "mimetype": "text/x-python",
   "name": "python",
   "nbconvert_exporter": "python",
   "pygments_lexer": "ipython3",
   "version": "3.9.10"
  }
 },
 "nbformat": 4,
 "nbformat_minor": 5
}
