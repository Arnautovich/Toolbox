{
 "cells": [
  {
   "cell_type": "code",
   "execution_count": 12,
   "id": "9d21c702-2327-41e2-b0f3-37c19e84c6c6",
   "metadata": {},
   "outputs": [],
   "source": [
    "def moles_of_product(reactants, stoichiometry):\n",
    "    # Find the limiting reactant\n",
    "    limiting_reactant = min(reactants.keys())\n",
    "    limiting_reactant_2 = min(reactants.values())\n",
    "    print(limiting_reactant)\n",
    "    # Calculate the number of moles of product using stoichiometry and limiting reactant\n",
    "    moles_of_product = limiting_reactant_2 / stoichiometry[limiting_reactant]\n",
    "\n",
    "    return moles_of_product\n",
    "\n",
    "#la fonction calcul le nombre de moles produites a partir d'une réaction "
   ]
  },
  {
   "cell_type": "code",
   "execution_count": 13,
   "id": "48b640d5-9ace-4518-902f-603ec7313676",
   "metadata": {},
   "outputs": [
    {
     "name": "stdout",
     "output_type": "stream",
     "text": [
      "A\n",
      "Number of moles of product: 1.0\n"
     ]
    }
   ],
   "source": [
    "reactants = {'A': 2, 'B': 3}\n",
    "stoichiometry = {'A': 2, 'B': 1}\n",
    "result = moles_of_product(reactants, stoichiometry)\n",
    "print(\"Number of moles of product:\", result)"
   ]
  },
  {
   "cell_type": "code",
   "execution_count": null,
   "id": "30c96b16-fbc6-43e1-abfa-5c3a3966a34e",
   "metadata": {},
   "outputs": [],
   "source": []
  },
  {
   "cell_type": "code",
   "execution_count": null,
   "id": "85949182-6310-437f-a1c4-00d7e7304652",
   "metadata": {},
   "outputs": [],
   "source": []
  }
 ],
 "metadata": {
  "kernelspec": {
   "display_name": "Python 3 (ipykernel)",
   "language": "python",
   "name": "python3"
  },
  "language_info": {
   "codemirror_mode": {
    "name": "ipython",
    "version": 3
   },
   "file_extension": ".py",
   "mimetype": "text/x-python",
   "name": "python",
   "nbconvert_exporter": "python",
   "pygments_lexer": "ipython3",
   "version": "3.9.10"
  }
 },
 "nbformat": 4,
 "nbformat_minor": 5
}
